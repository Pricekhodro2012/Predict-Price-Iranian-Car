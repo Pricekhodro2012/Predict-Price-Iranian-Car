{
 "cells": [
  {
   "cell_type": "markdown",
   "metadata": {},
   "source": [
    "<h1><p><center style=\"background: linear-gradient(to right,white,blue);color: transparent;font-family: Gabriola;color: navy;font-size: 210%;text-align: center;border-radius: 10px 70px\">\n",
    "   Predict Price Car 🚗\n",
    "</center></p></h1>"
   ]
  },
  {
   "cell_type": "markdown",
   "metadata": {},
   "source": [
    "![car](https://i.ytimg.com/vi/S7z7azrCoL0/maxresdefault.jpg)"
   ]
  },
  {
   "cell_type": "markdown",
   "metadata": {},
   "source": [
    "<a class=\"anchor\" id=\"about_dataset\"></a>\n",
    "<br>\n",
    "<br>\n",
    "<br>\n",
    "<font style=\"font-family:Gabriola; font-size:300%;\">1️⃣ Step 1 | Data Cleaning </font><br>\n",
    " <br>   \n",
    "<br>"
   ]
  },
  {
   "cell_type": "code",
   "execution_count": 1,
   "metadata": {
    "id": "oMIRyCC4I-8M"
   },
   "outputs": [],
   "source": [
    "import pandas as pd\n",
    "import numpy as np\n",
    "from sklearn.model_selection import (\n",
    "    train_test_split,\n",
    ")"
   ]
  },
  {
   "cell_type": "code",
   "execution_count": 2,
   "metadata": {
    "id": "zFq8GQ03LfD-"
   },
   "outputs": [],
   "source": [
    "from sklearn.ensemble import RandomForestRegressor\n",
    "from sklearn.metrics import mean_absolute_percentage_error, r2_score\n",
    "from sklearn.preprocessing import OneHotEncoder\n",
    "from sklearn.compose import ColumnTransformer\n",
    "from sklearn.pipeline import Pipeline\n",
    "from sklearn.impute import SimpleImputer\n",
    "import re\n",
    "from hazm import Normalizer, stopwords_list\n",
    "import matplotlib.pyplot as plt"
   ]
  },
  {
   "cell_type": "code",
   "execution_count": 81,
   "metadata": {
    "id": "Qa00bUmoMLgs"
   },
   "outputs": [],
   "source": [
    "train_data = pd.read_csv(\"train.csv\")\n",
    "test_data = pd.read_csv(\"test.csv\")"
   ]
  },
  {
   "cell_type": "code",
   "execution_count": 83,
   "metadata": {},
   "outputs": [],
   "source": [
    "train_data['volume'] = train_data['volume'].str.extract(r'(\\d+(\\.\\d+)?)')[0].astype(float)\n",
    "test_data['volume'] = test_data['volume'].str.extract(r'(\\d+(\\.\\d+)?)')[0].astype(float)"
   ]
  },
  {
   "cell_type": "code",
   "execution_count": 84,
   "metadata": {
    "id": "aRSz8xUSMUtj"
   },
   "outputs": [],
   "source": [
    "normalizer = Normalizer()"
   ]
  },
  {
   "cell_type": "code",
   "execution_count": 85,
   "metadata": {
    "id": "2gZ4riHLMiUN"
   },
   "outputs": [],
   "source": [
    "def text_cleaning(text):\n",
    "    if isinstance(text, str):\n",
    "        text = normalizer.normalize(text)\n",
    "        text = re.sub(r\"[^ا-ی0-9a-zA-Z\\s]\", \"\", text)\n",
    "        text = \" \".join(\n",
    "            [word for word in text.split() if word not in stopwords_list()]\n",
    "        )\n",
    "        return text\n",
    "    return \"\""
   ]
  },
  {
   "cell_type": "code",
   "execution_count": 86,
   "metadata": {
    "id": "x1cq3UFjMsrN"
   },
   "outputs": [],
   "source": [
    "def clean_numeric(value):\n",
    "    if isinstance(value, str):\n",
    "        value = value.replace(\" km\", \"\").replace(\",\", \"\")\n",
    "        try:\n",
    "            return float(value)\n",
    "        except ValueError:\n",
    "            return np.nan\n",
    "    return value"
   ]
  },
  {
   "cell_type": "code",
   "execution_count": 87,
   "metadata": {
    "id": "RUDsBlHtNeYe"
   },
   "outputs": [],
   "source": [
    "train_data[\"mileage\"] = train_data[\"mileage\"].apply(\n",
    "    clean_numeric\n",
    ")"
   ]
  },
  {
   "cell_type": "code",
   "execution_count": 88,
   "metadata": {
    "id": "xqJppUZjNpb0"
   },
   "outputs": [],
   "source": [
    "train_data[\"year\"] = train_data[\"year\"].astype(int)\n",
    "# train_data[\"acceleration\"] = train_data[\"acceleration\"].apply(\n",
    "#     clean_numeric\n",
    "# )"
   ]
  },
  {
   "cell_type": "code",
   "execution_count": 89,
   "metadata": {},
   "outputs": [],
   "source": [
    "test_data[\"year\"] = test_data[\"year\"].astype(int)\n",
    "# test_data[\"acceleration\"] = test_data[\"acceleration\"].apply(\n",
    "#     clean_numeric\n",
    "# )"
   ]
  },
  {
   "cell_type": "code",
   "execution_count": 90,
   "metadata": {},
   "outputs": [],
   "source": [
    "test_data['acceleration'] = test_data['acceleration'].str.replace(' ثانیه', '', regex=False)\n",
    "\n",
    "test_data['acceleration'] = test_data['acceleration'].str.replace('/', '.', regex=False)\n",
    "\n",
    "test_data['acceleration'] = pd.to_numeric(test_data['acceleration'], errors='coerce')"
   ]
  },
  {
   "cell_type": "code",
   "execution_count": 91,
   "metadata": {},
   "outputs": [],
   "source": [
    "train_data['acceleration'] = train_data['acceleration'].str.replace(' ثانیه', '', regex=False)\n",
    "\n",
    "train_data['acceleration'] = train_data['acceleration'].str.replace('/', '.', regex=False)\n",
    "\n",
    "train_data['acceleration'] = pd.to_numeric(train_data['acceleration'], errors='coerce')"
   ]
  },
  {
   "cell_type": "code",
   "execution_count": 92,
   "metadata": {},
   "outputs": [
    {
     "data": {
      "text/html": [
       "<div>\n",
       "<style scoped>\n",
       "    .dataframe tbody tr th:only-of-type {\n",
       "        vertical-align: middle;\n",
       "    }\n",
       "\n",
       "    .dataframe tbody tr th {\n",
       "        vertical-align: top;\n",
       "    }\n",
       "\n",
       "    .dataframe thead th {\n",
       "        text-align: right;\n",
       "    }\n",
       "</style>\n",
       "<table border=\"1\" class=\"dataframe\">\n",
       "  <thead>\n",
       "    <tr style=\"text-align: right;\">\n",
       "      <th></th>\n",
       "      <th>title</th>\n",
       "      <th>year</th>\n",
       "      <th>mileage</th>\n",
       "      <th>transmission</th>\n",
       "      <th>fuel</th>\n",
       "      <th>body_color</th>\n",
       "      <th>inside_color</th>\n",
       "      <th>body_status</th>\n",
       "      <th>description</th>\n",
       "      <th>body_type</th>\n",
       "      <th>volume</th>\n",
       "      <th>engine</th>\n",
       "      <th>acceleration</th>\n",
       "      <th>price</th>\n",
       "    </tr>\n",
       "  </thead>\n",
       "  <tbody>\n",
       "    <tr>\n",
       "      <th>0</th>\n",
       "      <td>هیوندای، توسان</td>\n",
       "      <td>2014</td>\n",
       "      <td>175000.0</td>\n",
       "      <td>اتوماتیک</td>\n",
       "      <td>9.6 لیتر در صد کیلومتر</td>\n",
       "      <td>سفید</td>\n",
       "      <td>مارون</td>\n",
       "      <td>بدون رنگ</td>\n",
       "      <td>مانیتور اندرویدی بدنه بدون لیسه کشی و روغن گیر...</td>\n",
       "      <td>crossover</td>\n",
       "      <td>2.4</td>\n",
       "      <td>4 سیلندر</td>\n",
       "      <td>10.4</td>\n",
       "      <td>2,550,000,000</td>\n",
       "    </tr>\n",
       "    <tr>\n",
       "      <th>1</th>\n",
       "      <td>پراید، 131</td>\n",
       "      <td>1391</td>\n",
       "      <td>330000.0</td>\n",
       "      <td>دنده ای</td>\n",
       "      <td>6.7 لیتر در صد کیلومتر</td>\n",
       "      <td>سفید</td>\n",
       "      <td>سفید</td>\n",
       "      <td>بدون رنگ</td>\n",
       "      <td>ماشین شاستی سرشاستی پلمپ میباشد به شرط موتوری ...</td>\n",
       "      <td>passenger_car</td>\n",
       "      <td>1.3</td>\n",
       "      <td>4 سیلندر یورو3 (M13)</td>\n",
       "      <td>13.8</td>\n",
       "      <td>215,000,000</td>\n",
       "    </tr>\n",
       "    <tr>\n",
       "      <th>2</th>\n",
       "      <td>پژو، 206</td>\n",
       "      <td>1398</td>\n",
       "      <td>132000.0</td>\n",
       "      <td>دنده ای</td>\n",
       "      <td>6.4 لیتر در صد کیلومتر</td>\n",
       "      <td>سفید</td>\n",
       "      <td>خاکستری</td>\n",
       "      <td>بدون رنگ</td>\n",
       "      <td>خیلی تمیز فنی عالی</td>\n",
       "      <td>hatchback</td>\n",
       "      <td>1.4</td>\n",
       "      <td>4 سیلندر TU3</td>\n",
       "      <td>14.1</td>\n",
       "      <td>445,000,000</td>\n",
       "    </tr>\n",
       "    <tr>\n",
       "      <th>3</th>\n",
       "      <td>تیبا، هاچ بک</td>\n",
       "      <td>1396</td>\n",
       "      <td>103000.0</td>\n",
       "      <td>دنده ای</td>\n",
       "      <td>6.9 لیتر در صد کیلومتر</td>\n",
       "      <td>آبی</td>\n",
       "      <td>خاکستری</td>\n",
       "      <td>بدون رنگ</td>\n",
       "      <td>ماشین دارای دوربین دنده عقب،روکش صندلی نو،زاپا...</td>\n",
       "      <td>hatchback</td>\n",
       "      <td>1.5</td>\n",
       "      <td>4 سیلندر M15</td>\n",
       "      <td>13.0</td>\n",
       "      <td>310,000,000</td>\n",
       "    </tr>\n",
       "    <tr>\n",
       "      <th>4</th>\n",
       "      <td>پژو، پارس</td>\n",
       "      <td>1401</td>\n",
       "      <td>37000.0</td>\n",
       "      <td>دنده ای</td>\n",
       "      <td>7 لیتر در صد کیلومتر</td>\n",
       "      <td>خاکستری</td>\n",
       "      <td>کرم</td>\n",
       "      <td>بدون رنگ</td>\n",
       "      <td>NaN</td>\n",
       "      <td>passenger_car</td>\n",
       "      <td>1.8</td>\n",
       "      <td>4 سیلندر XU7 پلاس</td>\n",
       "      <td>12.0</td>\n",
       "      <td>570,000,000</td>\n",
       "    </tr>\n",
       "    <tr>\n",
       "      <th>...</th>\n",
       "      <td>...</td>\n",
       "      <td>...</td>\n",
       "      <td>...</td>\n",
       "      <td>...</td>\n",
       "      <td>...</td>\n",
       "      <td>...</td>\n",
       "      <td>...</td>\n",
       "      <td>...</td>\n",
       "      <td>...</td>\n",
       "      <td>...</td>\n",
       "      <td>...</td>\n",
       "      <td>...</td>\n",
       "      <td>...</td>\n",
       "      <td>...</td>\n",
       "    </tr>\n",
       "    <tr>\n",
       "      <th>15583</th>\n",
       "      <td>رانا، LX</td>\n",
       "      <td>1392</td>\n",
       "      <td>230000.0</td>\n",
       "      <td>دنده ای</td>\n",
       "      <td>6.9 لیتر در صد کیلومتر</td>\n",
       "      <td>قرمز</td>\n",
       "      <td>مشکی</td>\n",
       "      <td>چند لکه رنگ</td>\n",
       "      <td>موتور تازه تعمیر \\r\\nلاستیک نو</td>\n",
       "      <td>passenger_car</td>\n",
       "      <td>1.6</td>\n",
       "      <td>4 سیلندر TU5 یورو4</td>\n",
       "      <td>12.0</td>\n",
       "      <td>280,000,000</td>\n",
       "    </tr>\n",
       "    <tr>\n",
       "      <th>15584</th>\n",
       "      <td>رانا، پلاس</td>\n",
       "      <td>1401</td>\n",
       "      <td>50000.0</td>\n",
       "      <td>دنده ای</td>\n",
       "      <td>6.9 لیتر در صد کیلومتر</td>\n",
       "      <td>مشکی</td>\n",
       "      <td>مشکی</td>\n",
       "      <td>بدون رنگ</td>\n",
       "      <td>NaN</td>\n",
       "      <td>passenger_car</td>\n",
       "      <td>1.6</td>\n",
       "      <td>4 سیلندر TU5 یورو5</td>\n",
       "      <td>12.0</td>\n",
       "      <td>495,000,000</td>\n",
       "    </tr>\n",
       "    <tr>\n",
       "      <th>15585</th>\n",
       "      <td>پژو، 207</td>\n",
       "      <td>1402</td>\n",
       "      <td>9500.0</td>\n",
       "      <td>دنده ای</td>\n",
       "      <td>6.6 لیتر در صد کیلومتر</td>\n",
       "      <td>مشکی</td>\n",
       "      <td>مشکی</td>\n",
       "      <td>بدون رنگ</td>\n",
       "      <td>NaN</td>\n",
       "      <td>hatchback</td>\n",
       "      <td>1.6</td>\n",
       "      <td>4 سیلندر TU5</td>\n",
       "      <td>11.6</td>\n",
       "      <td>710,000,000</td>\n",
       "    </tr>\n",
       "    <tr>\n",
       "      <th>15586</th>\n",
       "      <td>سیتروئن، زانتیا</td>\n",
       "      <td>1388</td>\n",
       "      <td>178000.0</td>\n",
       "      <td>دنده ای</td>\n",
       "      <td>7 لیتر در صد کیلومتر</td>\n",
       "      <td>سفید</td>\n",
       "      <td>خاکستری</td>\n",
       "      <td>چند لکه رنگ</td>\n",
       "      <td>ماشین فوق‌العاده تمیز و سالم فنی کاملا سالم و ...</td>\n",
       "      <td>passenger_car</td>\n",
       "      <td>2.0</td>\n",
       "      <td>4 سیلندر XU10</td>\n",
       "      <td>9.5</td>\n",
       "      <td>650,000,000</td>\n",
       "    </tr>\n",
       "    <tr>\n",
       "      <th>15587</th>\n",
       "      <td>تارا، اتوماتیک V2</td>\n",
       "      <td>1401</td>\n",
       "      <td>37000.0</td>\n",
       "      <td>اتوماتیک</td>\n",
       "      <td>7.3 لیتر در صد کیلومتر</td>\n",
       "      <td>سفید</td>\n",
       "      <td>خاکستری</td>\n",
       "      <td>کاپوت تعویض</td>\n",
       "      <td>اخرای ١۴٠١ گلگیرها رنگ شاسی سالم  روکش صندلی  ...</td>\n",
       "      <td>passenger_car</td>\n",
       "      <td>1.6</td>\n",
       "      <td>4 سیلندر TU5 پلاس</td>\n",
       "      <td>13.0</td>\n",
       "      <td>680,000,000</td>\n",
       "    </tr>\n",
       "  </tbody>\n",
       "</table>\n",
       "<p>15588 rows × 14 columns</p>\n",
       "</div>"
      ],
      "text/plain": [
       "                   title  year   mileage transmission                    fuel  \\\n",
       "0         هیوندای، توسان  2014  175000.0     اتوماتیک  9.6 لیتر در صد کیلومتر   \n",
       "1             پراید، 131  1391  330000.0      دنده ای  6.7 لیتر در صد کیلومتر   \n",
       "2               پژو، 206  1398  132000.0      دنده ای  6.4 لیتر در صد کیلومتر   \n",
       "3           تیبا، هاچ بک  1396  103000.0      دنده ای  6.9 لیتر در صد کیلومتر   \n",
       "4              پژو، پارس  1401   37000.0      دنده ای    7 لیتر در صد کیلومتر   \n",
       "...                  ...   ...       ...          ...                     ...   \n",
       "15583           رانا، LX  1392  230000.0      دنده ای  6.9 لیتر در صد کیلومتر   \n",
       "15584         رانا، پلاس  1401   50000.0      دنده ای  6.9 لیتر در صد کیلومتر   \n",
       "15585           پژو، 207  1402    9500.0      دنده ای  6.6 لیتر در صد کیلومتر   \n",
       "15586    سیتروئن، زانتیا  1388  178000.0      دنده ای    7 لیتر در صد کیلومتر   \n",
       "15587  تارا، اتوماتیک V2  1401   37000.0     اتوماتیک  7.3 لیتر در صد کیلومتر   \n",
       "\n",
       "      body_color inside_color  body_status  \\\n",
       "0           سفید        مارون     بدون رنگ   \n",
       "1           سفید         سفید     بدون رنگ   \n",
       "2           سفید      خاکستری     بدون رنگ   \n",
       "3            آبی      خاکستری     بدون رنگ   \n",
       "4        خاکستری          کرم     بدون رنگ   \n",
       "...          ...          ...          ...   \n",
       "15583       قرمز         مشکی  چند لکه رنگ   \n",
       "15584       مشکی         مشکی     بدون رنگ   \n",
       "15585       مشکی         مشکی     بدون رنگ   \n",
       "15586       سفید      خاکستری  چند لکه رنگ   \n",
       "15587       سفید      خاکستری  کاپوت تعویض   \n",
       "\n",
       "                                             description      body_type  \\\n",
       "0      مانیتور اندرویدی بدنه بدون لیسه کشی و روغن گیر...      crossover   \n",
       "1      ماشین شاستی سرشاستی پلمپ میباشد به شرط موتوری ...  passenger_car   \n",
       "2                                     خیلی تمیز فنی عالی      hatchback   \n",
       "3      ماشین دارای دوربین دنده عقب،روکش صندلی نو،زاپا...      hatchback   \n",
       "4                                                    NaN  passenger_car   \n",
       "...                                                  ...            ...   \n",
       "15583                     موتور تازه تعمیر \\r\\nلاستیک نو  passenger_car   \n",
       "15584                                                NaN  passenger_car   \n",
       "15585                                                NaN      hatchback   \n",
       "15586  ماشین فوق‌العاده تمیز و سالم فنی کاملا سالم و ...  passenger_car   \n",
       "15587  اخرای ١۴٠١ گلگیرها رنگ شاسی سالم  روکش صندلی  ...  passenger_car   \n",
       "\n",
       "       volume                engine  acceleration          price  \n",
       "0         2.4              4 سیلندر          10.4  2,550,000,000  \n",
       "1         1.3  4 سیلندر یورو3 (M13)          13.8    215,000,000  \n",
       "2         1.4          4 سیلندر TU3          14.1    445,000,000  \n",
       "3         1.5          4 سیلندر M15          13.0    310,000,000  \n",
       "4         1.8     4 سیلندر XU7 پلاس          12.0    570,000,000  \n",
       "...       ...                   ...           ...            ...  \n",
       "15583     1.6    4 سیلندر TU5 یورو4          12.0    280,000,000  \n",
       "15584     1.6    4 سیلندر TU5 یورو5          12.0    495,000,000  \n",
       "15585     1.6          4 سیلندر TU5          11.6    710,000,000  \n",
       "15586     2.0         4 سیلندر XU10           9.5    650,000,000  \n",
       "15587     1.6     4 سیلندر TU5 پلاس          13.0    680,000,000  \n",
       "\n",
       "[15588 rows x 14 columns]"
      ]
     },
     "execution_count": 92,
     "metadata": {},
     "output_type": "execute_result"
    }
   ],
   "source": [
    "train_data"
   ]
  },
  {
   "cell_type": "code",
   "execution_count": 94,
   "metadata": {
    "id": "TJFxmhCMN1k9"
   },
   "outputs": [],
   "source": [
    "test_data[\"mileage\"] = test_data[\"mileage\"].apply(\n",
    "    clean_numeric\n",
    ")"
   ]
  },
  {
   "cell_type": "code",
   "execution_count": 95,
   "metadata": {
    "id": "2_c6kPT1OEW0"
   },
   "outputs": [],
   "source": [
    "test_data[\"year\"] = test_data[\"year\"].astype(int)\n",
    "test_data[\"acceleration\"] = test_data[\"acceleration\"].apply(\n",
    "    clean_numeric\n",
    ")"
   ]
  },
  {
   "cell_type": "code",
   "execution_count": 96,
   "metadata": {
    "id": "DLcf0BAcOX4X"
   },
   "outputs": [],
   "source": [
    "train_data = train_data[\n",
    "    train_data[\"price\"].apply(\n",
    "        lambda x: isinstance(x, str) and x.replace(\",\", \"\").isdigit()\n",
    "    )\n",
    "]"
   ]
  },
  {
   "cell_type": "code",
   "execution_count": 97,
   "metadata": {
    "id": "UPT6iI5NOnTU"
   },
   "outputs": [
    {
     "name": "stderr",
     "output_type": "stream",
     "text": [
      "C:\\Users\\peyman\\AppData\\Local\\Temp\\ipykernel_11696\\780046509.py:1: SettingWithCopyWarning: \n",
      "A value is trying to be set on a copy of a slice from a DataFrame.\n",
      "Try using .loc[row_indexer,col_indexer] = value instead\n",
      "\n",
      "See the caveats in the documentation: https://pandas.pydata.org/pandas-docs/stable/user_guide/indexing.html#returning-a-view-versus-a-copy\n",
      "  train_data[\"price\"] = (\n"
     ]
    }
   ],
   "source": [
    "train_data[\"price\"] = (\n",
    "    train_data[\"price\"].str.replace(\",\", \"\").astype(float)\n",
    ")"
   ]
  },
  {
   "cell_type": "code",
   "execution_count": 98,
   "metadata": {
    "colab": {
     "base_uri": "https://localhost:8080/"
    },
    "id": "79G_WMLlOuXU",
    "outputId": "e2442e38-1089-4e89-c6d4-37f088146563"
   },
   "outputs": [
    {
     "name": "stdout",
     "output_type": "stream",
     "text": [
      "title              0\n",
      "year               0\n",
      "mileage          272\n",
      "transmission       0\n",
      "fuel            1656\n",
      "body_color         0\n",
      "inside_color       0\n",
      "body_status        0\n",
      "description     2098\n",
      "body_type          0\n",
      "volume          1216\n",
      "engine          1216\n",
      "acceleration    1835\n",
      "price              0\n",
      "dtype: int64\n"
     ]
    },
    {
     "name": "stderr",
     "output_type": "stream",
     "text": [
      "C:\\Users\\peyman\\AppData\\Local\\Temp\\ipykernel_11696\\1096579500.py:2: SettingWithCopyWarning: \n",
      "A value is trying to be set on a copy of a slice from a DataFrame.\n",
      "Try using .loc[row_indexer,col_indexer] = value instead\n",
      "\n",
      "See the caveats in the documentation: https://pandas.pydata.org/pandas-docs/stable/user_guide/indexing.html#returning-a-view-versus-a-copy\n",
      "  train_data.fillna(\n"
     ]
    }
   ],
   "source": [
    "print(train_data.isnull().sum())\n",
    "train_data.fillna(\n",
    "    {\"fuel\": \"نامشخص\", \"engine\": \"نامشخص\", \"description\": \"\", \"acceleration\": 0},\n",
    "    inplace=True,\n",
    ")"
   ]
  },
  {
   "cell_type": "code",
   "execution_count": 103,
   "metadata": {},
   "outputs": [],
   "source": [
    "train_data=train_data[['title','year','mileage','transmission','fuel','body_color','inside_color',\n",
    "                       'body_status','body_type','volume','engine','acceleration','price']]"
   ]
  },
  {
   "cell_type": "code",
   "execution_count": 26,
   "metadata": {},
   "outputs": [],
   "source": [
    "a = list(train_data['transmission'].unique())\n",
    "b = len(a)\n",
    "c =[]\n",
    "for i in range(b):\n",
    "    c.append(i)\n"
   ]
  },
  {
   "cell_type": "code",
   "execution_count": 27,
   "metadata": {},
   "outputs": [],
   "source": [
    "train_data.transmission = train_data.transmission.map(dict(zip(a,c)))"
   ]
  },
  {
   "cell_type": "code",
   "execution_count": 28,
   "metadata": {},
   "outputs": [],
   "source": [
    "def tran(f):\n",
    "    a = list(train_data[f].unique())\n",
    "    b = len(a)\n",
    "    c =[]\n",
    "    for i in range(b):\n",
    "        c.append(i)\n",
    "    return a,c\n",
    "\n",
    "    "
   ]
  },
  {
   "cell_type": "code",
   "execution_count": 29,
   "metadata": {},
   "outputs": [],
   "source": [
    "a,c = tran('title')"
   ]
  },
  {
   "cell_type": "code",
   "execution_count": 30,
   "metadata": {},
   "outputs": [],
   "source": [
    "train_data.title = train_data.title.map(dict(zip(a,c)))"
   ]
  },
  {
   "cell_type": "code",
   "execution_count": 31,
   "metadata": {},
   "outputs": [],
   "source": [
    "a,c = tran('body_color')\n",
    "train_data.body_color = train_data.body_color.map(dict(zip(a,c)))"
   ]
  },
  {
   "cell_type": "code",
   "execution_count": 32,
   "metadata": {},
   "outputs": [],
   "source": [
    "a,c = tran('inside_color')\n",
    "train_data.inside_color = train_data.inside_color.map(dict(zip(a,c)))"
   ]
  },
  {
   "cell_type": "code",
   "execution_count": 33,
   "metadata": {},
   "outputs": [],
   "source": [
    "a,c = tran('body_status')\n",
    "train_data.body_status = train_data.body_status.map(dict(zip(a,c)))"
   ]
  },
  {
   "cell_type": "code",
   "execution_count": 34,
   "metadata": {},
   "outputs": [],
   "source": [
    "a,c = tran('body_type')\n",
    "train_data.body_type = train_data.body_type.map(dict(zip(a,c)))  "
   ]
  },
  {
   "cell_type": "code",
   "execution_count": 35,
   "metadata": {},
   "outputs": [],
   "source": [
    "# a,c = tran('engine')\n",
    "# train_data.body_type = train_data.engine.map(dict(zip(a,c))) "
   ]
  },
  {
   "cell_type": "code",
   "execution_count": 36,
   "metadata": {},
   "outputs": [],
   "source": [
    "# a,c = tran('fuel')\n",
    "# train_data.body_type = train_data.fuel.map(dict(zip(a,c))) "
   ]
  },
  {
   "cell_type": "code",
   "execution_count": 37,
   "metadata": {},
   "outputs": [],
   "source": [
    "a = list(train_data['engine'].unique())\n",
    "b = len(a)\n",
    "c =[]\n",
    "for i in range(b):\n",
    "    c.append(i)\n",
    "train_data.engine = train_data.engine.map(dict(zip(a,c)))"
   ]
  },
  {
   "cell_type": "code",
   "execution_count": 39,
   "metadata": {},
   "outputs": [],
   "source": [
    "a = list(train_data['fuel'].unique())\n",
    "b = len(a)\n",
    "c =[]\n",
    "for i in range(b):\n",
    "    c.append(i)\n",
    "train_data.fuel = train_data.fuel.map(dict(zip(a,c)))"
   ]
  },
  {
   "cell_type": "code",
   "execution_count": 42,
   "metadata": {},
   "outputs": [
    {
     "data": {
      "text/html": [
       "<div>\n",
       "<style scoped>\n",
       "    .dataframe tbody tr th:only-of-type {\n",
       "        vertical-align: middle;\n",
       "    }\n",
       "\n",
       "    .dataframe tbody tr th {\n",
       "        vertical-align: top;\n",
       "    }\n",
       "\n",
       "    .dataframe thead th {\n",
       "        text-align: right;\n",
       "    }\n",
       "</style>\n",
       "<table border=\"1\" class=\"dataframe\">\n",
       "  <thead>\n",
       "    <tr style=\"text-align: right;\">\n",
       "      <th></th>\n",
       "      <th>title</th>\n",
       "      <th>year</th>\n",
       "      <th>mileage</th>\n",
       "      <th>transmission</th>\n",
       "      <th>fuel</th>\n",
       "      <th>body_color</th>\n",
       "      <th>inside_color</th>\n",
       "      <th>body_status</th>\n",
       "      <th>body_type</th>\n",
       "      <th>volume</th>\n",
       "      <th>engine</th>\n",
       "      <th>acceleration</th>\n",
       "      <th>price</th>\n",
       "    </tr>\n",
       "  </thead>\n",
       "  <tbody>\n",
       "    <tr>\n",
       "      <th>0</th>\n",
       "      <td>0</td>\n",
       "      <td>2014</td>\n",
       "      <td>175000.0</td>\n",
       "      <td>0</td>\n",
       "      <td>0</td>\n",
       "      <td>0</td>\n",
       "      <td>0</td>\n",
       "      <td>0</td>\n",
       "      <td>0</td>\n",
       "      <td>2.4</td>\n",
       "      <td>0</td>\n",
       "      <td>10.4</td>\n",
       "      <td>2.550000e+09</td>\n",
       "    </tr>\n",
       "    <tr>\n",
       "      <th>1</th>\n",
       "      <td>1</td>\n",
       "      <td>1391</td>\n",
       "      <td>330000.0</td>\n",
       "      <td>1</td>\n",
       "      <td>1</td>\n",
       "      <td>0</td>\n",
       "      <td>1</td>\n",
       "      <td>0</td>\n",
       "      <td>1</td>\n",
       "      <td>1.3</td>\n",
       "      <td>1</td>\n",
       "      <td>13.8</td>\n",
       "      <td>2.150000e+08</td>\n",
       "    </tr>\n",
       "    <tr>\n",
       "      <th>2</th>\n",
       "      <td>2</td>\n",
       "      <td>1398</td>\n",
       "      <td>132000.0</td>\n",
       "      <td>1</td>\n",
       "      <td>2</td>\n",
       "      <td>0</td>\n",
       "      <td>2</td>\n",
       "      <td>0</td>\n",
       "      <td>2</td>\n",
       "      <td>1.4</td>\n",
       "      <td>2</td>\n",
       "      <td>14.1</td>\n",
       "      <td>4.450000e+08</td>\n",
       "    </tr>\n",
       "    <tr>\n",
       "      <th>3</th>\n",
       "      <td>3</td>\n",
       "      <td>1396</td>\n",
       "      <td>103000.0</td>\n",
       "      <td>1</td>\n",
       "      <td>3</td>\n",
       "      <td>1</td>\n",
       "      <td>2</td>\n",
       "      <td>0</td>\n",
       "      <td>2</td>\n",
       "      <td>1.5</td>\n",
       "      <td>3</td>\n",
       "      <td>13.0</td>\n",
       "      <td>3.100000e+08</td>\n",
       "    </tr>\n",
       "    <tr>\n",
       "      <th>4</th>\n",
       "      <td>4</td>\n",
       "      <td>1401</td>\n",
       "      <td>37000.0</td>\n",
       "      <td>1</td>\n",
       "      <td>4</td>\n",
       "      <td>2</td>\n",
       "      <td>3</td>\n",
       "      <td>0</td>\n",
       "      <td>1</td>\n",
       "      <td>1.8</td>\n",
       "      <td>4</td>\n",
       "      <td>12.0</td>\n",
       "      <td>5.700000e+08</td>\n",
       "    </tr>\n",
       "    <tr>\n",
       "      <th>...</th>\n",
       "      <td>...</td>\n",
       "      <td>...</td>\n",
       "      <td>...</td>\n",
       "      <td>...</td>\n",
       "      <td>...</td>\n",
       "      <td>...</td>\n",
       "      <td>...</td>\n",
       "      <td>...</td>\n",
       "      <td>...</td>\n",
       "      <td>...</td>\n",
       "      <td>...</td>\n",
       "      <td>...</td>\n",
       "      <td>...</td>\n",
       "    </tr>\n",
       "    <tr>\n",
       "      <th>15583</th>\n",
       "      <td>19</td>\n",
       "      <td>1392</td>\n",
       "      <td>230000.0</td>\n",
       "      <td>1</td>\n",
       "      <td>3</td>\n",
       "      <td>8</td>\n",
       "      <td>4</td>\n",
       "      <td>8</td>\n",
       "      <td>1</td>\n",
       "      <td>1.6</td>\n",
       "      <td>16</td>\n",
       "      <td>12.0</td>\n",
       "      <td>2.800000e+08</td>\n",
       "    </tr>\n",
       "    <tr>\n",
       "      <th>15584</th>\n",
       "      <td>118</td>\n",
       "      <td>1401</td>\n",
       "      <td>50000.0</td>\n",
       "      <td>1</td>\n",
       "      <td>3</td>\n",
       "      <td>3</td>\n",
       "      <td>4</td>\n",
       "      <td>0</td>\n",
       "      <td>1</td>\n",
       "      <td>1.6</td>\n",
       "      <td>55</td>\n",
       "      <td>12.0</td>\n",
       "      <td>4.950000e+08</td>\n",
       "    </tr>\n",
       "    <tr>\n",
       "      <th>15585</th>\n",
       "      <td>6</td>\n",
       "      <td>1402</td>\n",
       "      <td>9500.0</td>\n",
       "      <td>1</td>\n",
       "      <td>6</td>\n",
       "      <td>3</td>\n",
       "      <td>4</td>\n",
       "      <td>0</td>\n",
       "      <td>2</td>\n",
       "      <td>1.6</td>\n",
       "      <td>6</td>\n",
       "      <td>11.6</td>\n",
       "      <td>7.100000e+08</td>\n",
       "    </tr>\n",
       "    <tr>\n",
       "      <th>15586</th>\n",
       "      <td>125</td>\n",
       "      <td>1388</td>\n",
       "      <td>178000.0</td>\n",
       "      <td>1</td>\n",
       "      <td>4</td>\n",
       "      <td>0</td>\n",
       "      <td>2</td>\n",
       "      <td>8</td>\n",
       "      <td>1</td>\n",
       "      <td>2.0</td>\n",
       "      <td>59</td>\n",
       "      <td>9.5</td>\n",
       "      <td>6.500000e+08</td>\n",
       "    </tr>\n",
       "    <tr>\n",
       "      <th>15587</th>\n",
       "      <td>53</td>\n",
       "      <td>1401</td>\n",
       "      <td>37000.0</td>\n",
       "      <td>0</td>\n",
       "      <td>20</td>\n",
       "      <td>0</td>\n",
       "      <td>2</td>\n",
       "      <td>12</td>\n",
       "      <td>1</td>\n",
       "      <td>1.6</td>\n",
       "      <td>22</td>\n",
       "      <td>13.0</td>\n",
       "      <td>6.800000e+08</td>\n",
       "    </tr>\n",
       "  </tbody>\n",
       "</table>\n",
       "<p>15587 rows × 13 columns</p>\n",
       "</div>"
      ],
      "text/plain": [
       "       title  year   mileage  transmission  fuel  body_color  inside_color  \\\n",
       "0          0  2014  175000.0             0     0           0             0   \n",
       "1          1  1391  330000.0             1     1           0             1   \n",
       "2          2  1398  132000.0             1     2           0             2   \n",
       "3          3  1396  103000.0             1     3           1             2   \n",
       "4          4  1401   37000.0             1     4           2             3   \n",
       "...      ...   ...       ...           ...   ...         ...           ...   \n",
       "15583     19  1392  230000.0             1     3           8             4   \n",
       "15584    118  1401   50000.0             1     3           3             4   \n",
       "15585      6  1402    9500.0             1     6           3             4   \n",
       "15586    125  1388  178000.0             1     4           0             2   \n",
       "15587     53  1401   37000.0             0    20           0             2   \n",
       "\n",
       "       body_status  body_type  volume  engine  acceleration         price  \n",
       "0                0          0     2.4       0          10.4  2.550000e+09  \n",
       "1                0          1     1.3       1          13.8  2.150000e+08  \n",
       "2                0          2     1.4       2          14.1  4.450000e+08  \n",
       "3                0          2     1.5       3          13.0  3.100000e+08  \n",
       "4                0          1     1.8       4          12.0  5.700000e+08  \n",
       "...            ...        ...     ...     ...           ...           ...  \n",
       "15583            8          1     1.6      16          12.0  2.800000e+08  \n",
       "15584            0          1     1.6      55          12.0  4.950000e+08  \n",
       "15585            0          2     1.6       6          11.6  7.100000e+08  \n",
       "15586            8          1     2.0      59           9.5  6.500000e+08  \n",
       "15587           12          1     1.6      22          13.0  6.800000e+08  \n",
       "\n",
       "[15587 rows x 13 columns]"
      ]
     },
     "execution_count": 42,
     "metadata": {},
     "output_type": "execute_result"
    }
   ],
   "source": [
    "train_data"
   ]
  },
  {
   "cell_type": "markdown",
   "metadata": {},
   "source": [
    "<a class=\"anchor\" id=\"about_dataset\"></a>\n",
    "<br>\n",
    "<br>\n",
    "<br>\n",
    "<font style=\"font-family:Gabriola; font-size:300%;\">2️⃣ Step 2 | Careat a Model </font><br>\n",
    " <br>   \n",
    "<br>"
   ]
  },
  {
   "cell_type": "code",
   "execution_count": 43,
   "metadata": {},
   "outputs": [],
   "source": [
    "max_threshold = train_data['price'].quantile(0.95)\n",
    "min_threshold = train_data['price'].quantile(0.04)\n",
    "train_data1 = train_data[(train_data['price'] < max_threshold) & (train_data['price'] > min_threshold)]"
   ]
  },
  {
   "cell_type": "code",
   "execution_count": 44,
   "metadata": {
    "id": "QBsXIXUqRizM"
   },
   "outputs": [],
   "source": [
    "X = train_data1.drop(columns=[\"price\"])\n",
    "y = train_data1[\"price\"]"
   ]
  },
  {
   "cell_type": "code",
   "execution_count": 45,
   "metadata": {
    "id": "6tOtVh5MRjbk"
   },
   "outputs": [],
   "source": [
    "numeric_features = [\"year\", \"mileage\", \"volume\", \"acceleration\",\n",
    "                    \"title\",\"transmission\",\"body_color\",\"inside_color\",\"body_status\",\"body_type\",\"fuel\",'engine']\n",
    "\n",
    "# categorical_features = [\n",
    "#     \"fuel\",'engine'\n",
    "# ]"
   ]
  },
  {
   "cell_type": "code",
   "execution_count": 46,
   "metadata": {},
   "outputs": [],
   "source": [
    "from sklearn.preprocessing import RobustScaler"
   ]
  },
  {
   "cell_type": "code",
   "execution_count": 48,
   "metadata": {
    "id": "rQAnCVPCSDle"
   },
   "outputs": [],
   "source": [
    "preprocessor = ColumnTransformer(\n",
    "    transformers=[\n",
    "        (\n",
    "            ('num', Pipeline(steps=[\n",
    "            ('imputer', SimpleImputer(strategy='mean')),  \n",
    "            ('scaler', RobustScaler())  \n",
    "        ]), numeric_features)\n",
    "        )\n",
    "    ]\n",
    ")\n"
   ]
  },
  {
   "cell_type": "code",
   "execution_count": 49,
   "metadata": {},
   "outputs": [],
   "source": [
    "from xgboost import XGBRegressor"
   ]
  },
  {
   "cell_type": "code",
   "execution_count": 50,
   "metadata": {},
   "outputs": [],
   "source": [
    "from sklearn.ensemble import GradientBoostingRegressor\n",
    "from lightgbm import LGBMRegressor\n",
    "from catboost import CatBoostRegressor\n",
    "from sklearn.ensemble import RandomForestRegressor, VotingRegressor\n",
    "from xgboost import XGBRegressor"
   ]
  },
  {
   "cell_type": "code",
   "execution_count": 51,
   "metadata": {
    "id": "pxQY9hV2SSpU"
   },
   "outputs": [],
   "source": [
    "random_forest = RandomForestRegressor(n_estimators=400, random_state=42)\n",
    "xgboost = XGBRegressor(n_estimators=800, random_state=42)\n",
    "\n",
    "\n",
    "voting_regressor = VotingRegressor(\n",
    "    estimators=[\n",
    "        (\"rf\", random_forest),\n",
    "        (\"xgb\", xgboost)\n",
    "    ]\n",
    ")\n",
    "\n",
    "\n",
    "pipeline = Pipeline(\n",
    "    steps=[\n",
    "        (\"preprocessor\", preprocessor),\n",
    "        (\"model\", voting_regressor)\n",
    "    ]\n",
    ")\n"
   ]
  },
  {
   "cell_type": "code",
   "execution_count": 52,
   "metadata": {
    "id": "M7NiWo-FSecl"
   },
   "outputs": [],
   "source": [
    "X_train, X_val, y_train, y_val = train_test_split(\n",
    "    X, y, test_size=0.1, random_state=42\n",
    ")"
   ]
  },
  {
   "cell_type": "code",
   "execution_count": 53,
   "metadata": {
    "colab": {
     "base_uri": "https://localhost:8080/",
     "height": 320
    },
    "id": "oCPLJrJhVhu-",
    "outputId": "d2e1294f-b613-4ea2-c292-709375cda288"
   },
   "outputs": [
    {
     "data": {
      "text/html": [
       "<style>#sk-container-id-1 {\n",
       "  /* Definition of color scheme common for light and dark mode */\n",
       "  --sklearn-color-text: black;\n",
       "  --sklearn-color-line: gray;\n",
       "  /* Definition of color scheme for unfitted estimators */\n",
       "  --sklearn-color-unfitted-level-0: #fff5e6;\n",
       "  --sklearn-color-unfitted-level-1: #f6e4d2;\n",
       "  --sklearn-color-unfitted-level-2: #ffe0b3;\n",
       "  --sklearn-color-unfitted-level-3: chocolate;\n",
       "  /* Definition of color scheme for fitted estimators */\n",
       "  --sklearn-color-fitted-level-0: #f0f8ff;\n",
       "  --sklearn-color-fitted-level-1: #d4ebff;\n",
       "  --sklearn-color-fitted-level-2: #b3dbfd;\n",
       "  --sklearn-color-fitted-level-3: cornflowerblue;\n",
       "\n",
       "  /* Specific color for light theme */\n",
       "  --sklearn-color-text-on-default-background: var(--sg-text-color, var(--theme-code-foreground, var(--jp-content-font-color1, black)));\n",
       "  --sklearn-color-background: var(--sg-background-color, var(--theme-background, var(--jp-layout-color0, white)));\n",
       "  --sklearn-color-border-box: var(--sg-text-color, var(--theme-code-foreground, var(--jp-content-font-color1, black)));\n",
       "  --sklearn-color-icon: #696969;\n",
       "\n",
       "  @media (prefers-color-scheme: dark) {\n",
       "    /* Redefinition of color scheme for dark theme */\n",
       "    --sklearn-color-text-on-default-background: var(--sg-text-color, var(--theme-code-foreground, var(--jp-content-font-color1, white)));\n",
       "    --sklearn-color-background: var(--sg-background-color, var(--theme-background, var(--jp-layout-color0, #111)));\n",
       "    --sklearn-color-border-box: var(--sg-text-color, var(--theme-code-foreground, var(--jp-content-font-color1, white)));\n",
       "    --sklearn-color-icon: #878787;\n",
       "  }\n",
       "}\n",
       "\n",
       "#sk-container-id-1 {\n",
       "  color: var(--sklearn-color-text);\n",
       "}\n",
       "\n",
       "#sk-container-id-1 pre {\n",
       "  padding: 0;\n",
       "}\n",
       "\n",
       "#sk-container-id-1 input.sk-hidden--visually {\n",
       "  border: 0;\n",
       "  clip: rect(1px 1px 1px 1px);\n",
       "  clip: rect(1px, 1px, 1px, 1px);\n",
       "  height: 1px;\n",
       "  margin: -1px;\n",
       "  overflow: hidden;\n",
       "  padding: 0;\n",
       "  position: absolute;\n",
       "  width: 1px;\n",
       "}\n",
       "\n",
       "#sk-container-id-1 div.sk-dashed-wrapped {\n",
       "  border: 1px dashed var(--sklearn-color-line);\n",
       "  margin: 0 0.4em 0.5em 0.4em;\n",
       "  box-sizing: border-box;\n",
       "  padding-bottom: 0.4em;\n",
       "  background-color: var(--sklearn-color-background);\n",
       "}\n",
       "\n",
       "#sk-container-id-1 div.sk-container {\n",
       "  /* jupyter's `normalize.less` sets `[hidden] { display: none; }`\n",
       "     but bootstrap.min.css set `[hidden] { display: none !important; }`\n",
       "     so we also need the `!important` here to be able to override the\n",
       "     default hidden behavior on the sphinx rendered scikit-learn.org.\n",
       "     See: https://github.com/scikit-learn/scikit-learn/issues/21755 */\n",
       "  display: inline-block !important;\n",
       "  position: relative;\n",
       "}\n",
       "\n",
       "#sk-container-id-1 div.sk-text-repr-fallback {\n",
       "  display: none;\n",
       "}\n",
       "\n",
       "div.sk-parallel-item,\n",
       "div.sk-serial,\n",
       "div.sk-item {\n",
       "  /* draw centered vertical line to link estimators */\n",
       "  background-image: linear-gradient(var(--sklearn-color-text-on-default-background), var(--sklearn-color-text-on-default-background));\n",
       "  background-size: 2px 100%;\n",
       "  background-repeat: no-repeat;\n",
       "  background-position: center center;\n",
       "}\n",
       "\n",
       "/* Parallel-specific style estimator block */\n",
       "\n",
       "#sk-container-id-1 div.sk-parallel-item::after {\n",
       "  content: \"\";\n",
       "  width: 100%;\n",
       "  border-bottom: 2px solid var(--sklearn-color-text-on-default-background);\n",
       "  flex-grow: 1;\n",
       "}\n",
       "\n",
       "#sk-container-id-1 div.sk-parallel {\n",
       "  display: flex;\n",
       "  align-items: stretch;\n",
       "  justify-content: center;\n",
       "  background-color: var(--sklearn-color-background);\n",
       "  position: relative;\n",
       "}\n",
       "\n",
       "#sk-container-id-1 div.sk-parallel-item {\n",
       "  display: flex;\n",
       "  flex-direction: column;\n",
       "}\n",
       "\n",
       "#sk-container-id-1 div.sk-parallel-item:first-child::after {\n",
       "  align-self: flex-end;\n",
       "  width: 50%;\n",
       "}\n",
       "\n",
       "#sk-container-id-1 div.sk-parallel-item:last-child::after {\n",
       "  align-self: flex-start;\n",
       "  width: 50%;\n",
       "}\n",
       "\n",
       "#sk-container-id-1 div.sk-parallel-item:only-child::after {\n",
       "  width: 0;\n",
       "}\n",
       "\n",
       "/* Serial-specific style estimator block */\n",
       "\n",
       "#sk-container-id-1 div.sk-serial {\n",
       "  display: flex;\n",
       "  flex-direction: column;\n",
       "  align-items: center;\n",
       "  background-color: var(--sklearn-color-background);\n",
       "  padding-right: 1em;\n",
       "  padding-left: 1em;\n",
       "}\n",
       "\n",
       "\n",
       "/* Toggleable style: style used for estimator/Pipeline/ColumnTransformer box that is\n",
       "clickable and can be expanded/collapsed.\n",
       "- Pipeline and ColumnTransformer use this feature and define the default style\n",
       "- Estimators will overwrite some part of the style using the `sk-estimator` class\n",
       "*/\n",
       "\n",
       "/* Pipeline and ColumnTransformer style (default) */\n",
       "\n",
       "#sk-container-id-1 div.sk-toggleable {\n",
       "  /* Default theme specific background. It is overwritten whether we have a\n",
       "  specific estimator or a Pipeline/ColumnTransformer */\n",
       "  background-color: var(--sklearn-color-background);\n",
       "}\n",
       "\n",
       "/* Toggleable label */\n",
       "#sk-container-id-1 label.sk-toggleable__label {\n",
       "  cursor: pointer;\n",
       "  display: block;\n",
       "  width: 100%;\n",
       "  margin-bottom: 0;\n",
       "  padding: 0.5em;\n",
       "  box-sizing: border-box;\n",
       "  text-align: center;\n",
       "}\n",
       "\n",
       "#sk-container-id-1 label.sk-toggleable__label-arrow:before {\n",
       "  /* Arrow on the left of the label */\n",
       "  content: \"▸\";\n",
       "  float: left;\n",
       "  margin-right: 0.25em;\n",
       "  color: var(--sklearn-color-icon);\n",
       "}\n",
       "\n",
       "#sk-container-id-1 label.sk-toggleable__label-arrow:hover:before {\n",
       "  color: var(--sklearn-color-text);\n",
       "}\n",
       "\n",
       "/* Toggleable content - dropdown */\n",
       "\n",
       "#sk-container-id-1 div.sk-toggleable__content {\n",
       "  max-height: 0;\n",
       "  max-width: 0;\n",
       "  overflow: hidden;\n",
       "  text-align: left;\n",
       "  /* unfitted */\n",
       "  background-color: var(--sklearn-color-unfitted-level-0);\n",
       "}\n",
       "\n",
       "#sk-container-id-1 div.sk-toggleable__content.fitted {\n",
       "  /* fitted */\n",
       "  background-color: var(--sklearn-color-fitted-level-0);\n",
       "}\n",
       "\n",
       "#sk-container-id-1 div.sk-toggleable__content pre {\n",
       "  margin: 0.2em;\n",
       "  border-radius: 0.25em;\n",
       "  color: var(--sklearn-color-text);\n",
       "  /* unfitted */\n",
       "  background-color: var(--sklearn-color-unfitted-level-0);\n",
       "}\n",
       "\n",
       "#sk-container-id-1 div.sk-toggleable__content.fitted pre {\n",
       "  /* unfitted */\n",
       "  background-color: var(--sklearn-color-fitted-level-0);\n",
       "}\n",
       "\n",
       "#sk-container-id-1 input.sk-toggleable__control:checked~div.sk-toggleable__content {\n",
       "  /* Expand drop-down */\n",
       "  max-height: 200px;\n",
       "  max-width: 100%;\n",
       "  overflow: auto;\n",
       "}\n",
       "\n",
       "#sk-container-id-1 input.sk-toggleable__control:checked~label.sk-toggleable__label-arrow:before {\n",
       "  content: \"▾\";\n",
       "}\n",
       "\n",
       "/* Pipeline/ColumnTransformer-specific style */\n",
       "\n",
       "#sk-container-id-1 div.sk-label input.sk-toggleable__control:checked~label.sk-toggleable__label {\n",
       "  color: var(--sklearn-color-text);\n",
       "  background-color: var(--sklearn-color-unfitted-level-2);\n",
       "}\n",
       "\n",
       "#sk-container-id-1 div.sk-label.fitted input.sk-toggleable__control:checked~label.sk-toggleable__label {\n",
       "  background-color: var(--sklearn-color-fitted-level-2);\n",
       "}\n",
       "\n",
       "/* Estimator-specific style */\n",
       "\n",
       "/* Colorize estimator box */\n",
       "#sk-container-id-1 div.sk-estimator input.sk-toggleable__control:checked~label.sk-toggleable__label {\n",
       "  /* unfitted */\n",
       "  background-color: var(--sklearn-color-unfitted-level-2);\n",
       "}\n",
       "\n",
       "#sk-container-id-1 div.sk-estimator.fitted input.sk-toggleable__control:checked~label.sk-toggleable__label {\n",
       "  /* fitted */\n",
       "  background-color: var(--sklearn-color-fitted-level-2);\n",
       "}\n",
       "\n",
       "#sk-container-id-1 div.sk-label label.sk-toggleable__label,\n",
       "#sk-container-id-1 div.sk-label label {\n",
       "  /* The background is the default theme color */\n",
       "  color: var(--sklearn-color-text-on-default-background);\n",
       "}\n",
       "\n",
       "/* On hover, darken the color of the background */\n",
       "#sk-container-id-1 div.sk-label:hover label.sk-toggleable__label {\n",
       "  color: var(--sklearn-color-text);\n",
       "  background-color: var(--sklearn-color-unfitted-level-2);\n",
       "}\n",
       "\n",
       "/* Label box, darken color on hover, fitted */\n",
       "#sk-container-id-1 div.sk-label.fitted:hover label.sk-toggleable__label.fitted {\n",
       "  color: var(--sklearn-color-text);\n",
       "  background-color: var(--sklearn-color-fitted-level-2);\n",
       "}\n",
       "\n",
       "/* Estimator label */\n",
       "\n",
       "#sk-container-id-1 div.sk-label label {\n",
       "  font-family: monospace;\n",
       "  font-weight: bold;\n",
       "  display: inline-block;\n",
       "  line-height: 1.2em;\n",
       "}\n",
       "\n",
       "#sk-container-id-1 div.sk-label-container {\n",
       "  text-align: center;\n",
       "}\n",
       "\n",
       "/* Estimator-specific */\n",
       "#sk-container-id-1 div.sk-estimator {\n",
       "  font-family: monospace;\n",
       "  border: 1px dotted var(--sklearn-color-border-box);\n",
       "  border-radius: 0.25em;\n",
       "  box-sizing: border-box;\n",
       "  margin-bottom: 0.5em;\n",
       "  /* unfitted */\n",
       "  background-color: var(--sklearn-color-unfitted-level-0);\n",
       "}\n",
       "\n",
       "#sk-container-id-1 div.sk-estimator.fitted {\n",
       "  /* fitted */\n",
       "  background-color: var(--sklearn-color-fitted-level-0);\n",
       "}\n",
       "\n",
       "/* on hover */\n",
       "#sk-container-id-1 div.sk-estimator:hover {\n",
       "  /* unfitted */\n",
       "  background-color: var(--sklearn-color-unfitted-level-2);\n",
       "}\n",
       "\n",
       "#sk-container-id-1 div.sk-estimator.fitted:hover {\n",
       "  /* fitted */\n",
       "  background-color: var(--sklearn-color-fitted-level-2);\n",
       "}\n",
       "\n",
       "/* Specification for estimator info (e.g. \"i\" and \"?\") */\n",
       "\n",
       "/* Common style for \"i\" and \"?\" */\n",
       "\n",
       ".sk-estimator-doc-link,\n",
       "a:link.sk-estimator-doc-link,\n",
       "a:visited.sk-estimator-doc-link {\n",
       "  float: right;\n",
       "  font-size: smaller;\n",
       "  line-height: 1em;\n",
       "  font-family: monospace;\n",
       "  background-color: var(--sklearn-color-background);\n",
       "  border-radius: 1em;\n",
       "  height: 1em;\n",
       "  width: 1em;\n",
       "  text-decoration: none !important;\n",
       "  margin-left: 1ex;\n",
       "  /* unfitted */\n",
       "  border: var(--sklearn-color-unfitted-level-1) 1pt solid;\n",
       "  color: var(--sklearn-color-unfitted-level-1);\n",
       "}\n",
       "\n",
       ".sk-estimator-doc-link.fitted,\n",
       "a:link.sk-estimator-doc-link.fitted,\n",
       "a:visited.sk-estimator-doc-link.fitted {\n",
       "  /* fitted */\n",
       "  border: var(--sklearn-color-fitted-level-1) 1pt solid;\n",
       "  color: var(--sklearn-color-fitted-level-1);\n",
       "}\n",
       "\n",
       "/* On hover */\n",
       "div.sk-estimator:hover .sk-estimator-doc-link:hover,\n",
       ".sk-estimator-doc-link:hover,\n",
       "div.sk-label-container:hover .sk-estimator-doc-link:hover,\n",
       ".sk-estimator-doc-link:hover {\n",
       "  /* unfitted */\n",
       "  background-color: var(--sklearn-color-unfitted-level-3);\n",
       "  color: var(--sklearn-color-background);\n",
       "  text-decoration: none;\n",
       "}\n",
       "\n",
       "div.sk-estimator.fitted:hover .sk-estimator-doc-link.fitted:hover,\n",
       ".sk-estimator-doc-link.fitted:hover,\n",
       "div.sk-label-container:hover .sk-estimator-doc-link.fitted:hover,\n",
       ".sk-estimator-doc-link.fitted:hover {\n",
       "  /* fitted */\n",
       "  background-color: var(--sklearn-color-fitted-level-3);\n",
       "  color: var(--sklearn-color-background);\n",
       "  text-decoration: none;\n",
       "}\n",
       "\n",
       "/* Span, style for the box shown on hovering the info icon */\n",
       ".sk-estimator-doc-link span {\n",
       "  display: none;\n",
       "  z-index: 9999;\n",
       "  position: relative;\n",
       "  font-weight: normal;\n",
       "  right: .2ex;\n",
       "  padding: .5ex;\n",
       "  margin: .5ex;\n",
       "  width: min-content;\n",
       "  min-width: 20ex;\n",
       "  max-width: 50ex;\n",
       "  color: var(--sklearn-color-text);\n",
       "  box-shadow: 2pt 2pt 4pt #999;\n",
       "  /* unfitted */\n",
       "  background: var(--sklearn-color-unfitted-level-0);\n",
       "  border: .5pt solid var(--sklearn-color-unfitted-level-3);\n",
       "}\n",
       "\n",
       ".sk-estimator-doc-link.fitted span {\n",
       "  /* fitted */\n",
       "  background: var(--sklearn-color-fitted-level-0);\n",
       "  border: var(--sklearn-color-fitted-level-3);\n",
       "}\n",
       "\n",
       ".sk-estimator-doc-link:hover span {\n",
       "  display: block;\n",
       "}\n",
       "\n",
       "/* \"?\"-specific style due to the `<a>` HTML tag */\n",
       "\n",
       "#sk-container-id-1 a.estimator_doc_link {\n",
       "  float: right;\n",
       "  font-size: 1rem;\n",
       "  line-height: 1em;\n",
       "  font-family: monospace;\n",
       "  background-color: var(--sklearn-color-background);\n",
       "  border-radius: 1rem;\n",
       "  height: 1rem;\n",
       "  width: 1rem;\n",
       "  text-decoration: none;\n",
       "  /* unfitted */\n",
       "  color: var(--sklearn-color-unfitted-level-1);\n",
       "  border: var(--sklearn-color-unfitted-level-1) 1pt solid;\n",
       "}\n",
       "\n",
       "#sk-container-id-1 a.estimator_doc_link.fitted {\n",
       "  /* fitted */\n",
       "  border: var(--sklearn-color-fitted-level-1) 1pt solid;\n",
       "  color: var(--sklearn-color-fitted-level-1);\n",
       "}\n",
       "\n",
       "/* On hover */\n",
       "#sk-container-id-1 a.estimator_doc_link:hover {\n",
       "  /* unfitted */\n",
       "  background-color: var(--sklearn-color-unfitted-level-3);\n",
       "  color: var(--sklearn-color-background);\n",
       "  text-decoration: none;\n",
       "}\n",
       "\n",
       "#sk-container-id-1 a.estimator_doc_link.fitted:hover {\n",
       "  /* fitted */\n",
       "  background-color: var(--sklearn-color-fitted-level-3);\n",
       "}\n",
       "</style><div id=\"sk-container-id-1\" class=\"sk-top-container\"><div class=\"sk-text-repr-fallback\"><pre>Pipeline(steps=[(&#x27;preprocessor&#x27;,\n",
       "                 ColumnTransformer(transformers=[(&#x27;num&#x27;,\n",
       "                                                  Pipeline(steps=[(&#x27;imputer&#x27;,\n",
       "                                                                   SimpleImputer()),\n",
       "                                                                  (&#x27;scaler&#x27;,\n",
       "                                                                   RobustScaler())]),\n",
       "                                                  [&#x27;year&#x27;, &#x27;mileage&#x27;, &#x27;volume&#x27;,\n",
       "                                                   &#x27;acceleration&#x27;, &#x27;title&#x27;,\n",
       "                                                   &#x27;transmission&#x27;, &#x27;body_color&#x27;,\n",
       "                                                   &#x27;inside_color&#x27;,\n",
       "                                                   &#x27;body_status&#x27;, &#x27;body_type&#x27;,\n",
       "                                                   &#x27;fuel&#x27;, &#x27;engine&#x27;])])),\n",
       "                (&#x27;model&#x27;,\n",
       "                 VotingRegressor(estimators=[(&#x27;rf&#x27;,\n",
       "                                              RandomForestRegressor(n_...\n",
       "                                                           grow_policy=None,\n",
       "                                                           importance_type=None,\n",
       "                                                           interaction_constraints=None,\n",
       "                                                           learning_rate=None,\n",
       "                                                           max_bin=None,\n",
       "                                                           max_cat_threshold=None,\n",
       "                                                           max_cat_to_onehot=None,\n",
       "                                                           max_delta_step=None,\n",
       "                                                           max_depth=None,\n",
       "                                                           max_leaves=None,\n",
       "                                                           min_child_weight=None,\n",
       "                                                           missing=nan,\n",
       "                                                           monotone_constraints=None,\n",
       "                                                           multi_strategy=None,\n",
       "                                                           n_estimators=800,\n",
       "                                                           n_jobs=None,\n",
       "                                                           num_parallel_tree=None,\n",
       "                                                           random_state=42, ...))]))])</pre><b>In a Jupyter environment, please rerun this cell to show the HTML representation or trust the notebook. <br />On GitHub, the HTML representation is unable to render, please try loading this page with nbviewer.org.</b></div><div class=\"sk-container\" hidden><div class=\"sk-item sk-dashed-wrapped\"><div class=\"sk-label-container\"><div class=\"sk-label fitted sk-toggleable\"><input class=\"sk-toggleable__control sk-hidden--visually\" id=\"sk-estimator-id-1\" type=\"checkbox\" ><label for=\"sk-estimator-id-1\" class=\"sk-toggleable__label fitted sk-toggleable__label-arrow fitted\">&nbsp;&nbsp;Pipeline<a class=\"sk-estimator-doc-link fitted\" rel=\"noreferrer\" target=\"_blank\" href=\"https://scikit-learn.org/1.5/modules/generated/sklearn.pipeline.Pipeline.html\">?<span>Documentation for Pipeline</span></a><span class=\"sk-estimator-doc-link fitted\">i<span>Fitted</span></span></label><div class=\"sk-toggleable__content fitted\"><pre>Pipeline(steps=[(&#x27;preprocessor&#x27;,\n",
       "                 ColumnTransformer(transformers=[(&#x27;num&#x27;,\n",
       "                                                  Pipeline(steps=[(&#x27;imputer&#x27;,\n",
       "                                                                   SimpleImputer()),\n",
       "                                                                  (&#x27;scaler&#x27;,\n",
       "                                                                   RobustScaler())]),\n",
       "                                                  [&#x27;year&#x27;, &#x27;mileage&#x27;, &#x27;volume&#x27;,\n",
       "                                                   &#x27;acceleration&#x27;, &#x27;title&#x27;,\n",
       "                                                   &#x27;transmission&#x27;, &#x27;body_color&#x27;,\n",
       "                                                   &#x27;inside_color&#x27;,\n",
       "                                                   &#x27;body_status&#x27;, &#x27;body_type&#x27;,\n",
       "                                                   &#x27;fuel&#x27;, &#x27;engine&#x27;])])),\n",
       "                (&#x27;model&#x27;,\n",
       "                 VotingRegressor(estimators=[(&#x27;rf&#x27;,\n",
       "                                              RandomForestRegressor(n_...\n",
       "                                                           grow_policy=None,\n",
       "                                                           importance_type=None,\n",
       "                                                           interaction_constraints=None,\n",
       "                                                           learning_rate=None,\n",
       "                                                           max_bin=None,\n",
       "                                                           max_cat_threshold=None,\n",
       "                                                           max_cat_to_onehot=None,\n",
       "                                                           max_delta_step=None,\n",
       "                                                           max_depth=None,\n",
       "                                                           max_leaves=None,\n",
       "                                                           min_child_weight=None,\n",
       "                                                           missing=nan,\n",
       "                                                           monotone_constraints=None,\n",
       "                                                           multi_strategy=None,\n",
       "                                                           n_estimators=800,\n",
       "                                                           n_jobs=None,\n",
       "                                                           num_parallel_tree=None,\n",
       "                                                           random_state=42, ...))]))])</pre></div> </div></div><div class=\"sk-serial\"><div class=\"sk-item sk-dashed-wrapped\"><div class=\"sk-label-container\"><div class=\"sk-label fitted sk-toggleable\"><input class=\"sk-toggleable__control sk-hidden--visually\" id=\"sk-estimator-id-2\" type=\"checkbox\" ><label for=\"sk-estimator-id-2\" class=\"sk-toggleable__label fitted sk-toggleable__label-arrow fitted\">&nbsp;preprocessor: ColumnTransformer<a class=\"sk-estimator-doc-link fitted\" rel=\"noreferrer\" target=\"_blank\" href=\"https://scikit-learn.org/1.5/modules/generated/sklearn.compose.ColumnTransformer.html\">?<span>Documentation for preprocessor: ColumnTransformer</span></a></label><div class=\"sk-toggleable__content fitted\"><pre>ColumnTransformer(transformers=[(&#x27;num&#x27;,\n",
       "                                 Pipeline(steps=[(&#x27;imputer&#x27;, SimpleImputer()),\n",
       "                                                 (&#x27;scaler&#x27;, RobustScaler())]),\n",
       "                                 [&#x27;year&#x27;, &#x27;mileage&#x27;, &#x27;volume&#x27;, &#x27;acceleration&#x27;,\n",
       "                                  &#x27;title&#x27;, &#x27;transmission&#x27;, &#x27;body_color&#x27;,\n",
       "                                  &#x27;inside_color&#x27;, &#x27;body_status&#x27;, &#x27;body_type&#x27;,\n",
       "                                  &#x27;fuel&#x27;, &#x27;engine&#x27;])])</pre></div> </div></div><div class=\"sk-parallel\"><div class=\"sk-parallel-item\"><div class=\"sk-item\"><div class=\"sk-label-container\"><div class=\"sk-label fitted sk-toggleable\"><input class=\"sk-toggleable__control sk-hidden--visually\" id=\"sk-estimator-id-3\" type=\"checkbox\" ><label for=\"sk-estimator-id-3\" class=\"sk-toggleable__label fitted sk-toggleable__label-arrow fitted\">num</label><div class=\"sk-toggleable__content fitted\"><pre>[&#x27;year&#x27;, &#x27;mileage&#x27;, &#x27;volume&#x27;, &#x27;acceleration&#x27;, &#x27;title&#x27;, &#x27;transmission&#x27;, &#x27;body_color&#x27;, &#x27;inside_color&#x27;, &#x27;body_status&#x27;, &#x27;body_type&#x27;, &#x27;fuel&#x27;, &#x27;engine&#x27;]</pre></div> </div></div><div class=\"sk-serial\"><div class=\"sk-item\"><div class=\"sk-serial\"><div class=\"sk-item\"><div class=\"sk-estimator fitted sk-toggleable\"><input class=\"sk-toggleable__control sk-hidden--visually\" id=\"sk-estimator-id-4\" type=\"checkbox\" ><label for=\"sk-estimator-id-4\" class=\"sk-toggleable__label fitted sk-toggleable__label-arrow fitted\">&nbsp;SimpleImputer<a class=\"sk-estimator-doc-link fitted\" rel=\"noreferrer\" target=\"_blank\" href=\"https://scikit-learn.org/1.5/modules/generated/sklearn.impute.SimpleImputer.html\">?<span>Documentation for SimpleImputer</span></a></label><div class=\"sk-toggleable__content fitted\"><pre>SimpleImputer()</pre></div> </div></div><div class=\"sk-item\"><div class=\"sk-estimator fitted sk-toggleable\"><input class=\"sk-toggleable__control sk-hidden--visually\" id=\"sk-estimator-id-5\" type=\"checkbox\" ><label for=\"sk-estimator-id-5\" class=\"sk-toggleable__label fitted sk-toggleable__label-arrow fitted\">&nbsp;RobustScaler<a class=\"sk-estimator-doc-link fitted\" rel=\"noreferrer\" target=\"_blank\" href=\"https://scikit-learn.org/1.5/modules/generated/sklearn.preprocessing.RobustScaler.html\">?<span>Documentation for RobustScaler</span></a></label><div class=\"sk-toggleable__content fitted\"><pre>RobustScaler()</pre></div> </div></div></div></div></div></div></div></div></div><div class=\"sk-item sk-dashed-wrapped\"><div class=\"sk-label-container\"><div class=\"sk-label fitted sk-toggleable\"><input class=\"sk-toggleable__control sk-hidden--visually\" id=\"sk-estimator-id-6\" type=\"checkbox\" ><label for=\"sk-estimator-id-6\" class=\"sk-toggleable__label fitted sk-toggleable__label-arrow fitted\">&nbsp;model: VotingRegressor<a class=\"sk-estimator-doc-link fitted\" rel=\"noreferrer\" target=\"_blank\" href=\"https://scikit-learn.org/1.5/modules/generated/sklearn.ensemble.VotingRegressor.html\">?<span>Documentation for model: VotingRegressor</span></a></label><div class=\"sk-toggleable__content fitted\"><pre>VotingRegressor(estimators=[(&#x27;rf&#x27;,\n",
       "                             RandomForestRegressor(n_estimators=400,\n",
       "                                                   random_state=42)),\n",
       "                            (&#x27;xgb&#x27;,\n",
       "                             XGBRegressor(base_score=None, booster=None,\n",
       "                                          callbacks=None,\n",
       "                                          colsample_bylevel=None,\n",
       "                                          colsample_bynode=None,\n",
       "                                          colsample_bytree=None, device=None,\n",
       "                                          early_stopping_rounds=None,\n",
       "                                          enable_categorical=False,\n",
       "                                          eval_metric=None, feature_types=None,\n",
       "                                          gamma=None, grow_policy=None,\n",
       "                                          importance_type=None,\n",
       "                                          interaction_constraints=None,\n",
       "                                          learning_rate=None, max_bin=None,\n",
       "                                          max_cat_threshold=None,\n",
       "                                          max_cat_to_onehot=None,\n",
       "                                          max_delta_step=None, max_depth=None,\n",
       "                                          max_leaves=None,\n",
       "                                          min_child_weight=None, missing=nan,\n",
       "                                          monotone_constraints=None,\n",
       "                                          multi_strategy=None, n_estimators=800,\n",
       "                                          n_jobs=None, num_parallel_tree=None,\n",
       "                                          random_state=42, ...))])</pre></div> </div></div><div class=\"sk-parallel\"><div class=\"sk-parallel-item\"><div class=\"sk-item\"><div class=\"sk-label-container\"><div class=\"sk-label fitted sk-toggleable\"><label>rf</label></div></div><div class=\"sk-serial\"><div class=\"sk-item\"><div class=\"sk-estimator fitted sk-toggleable\"><input class=\"sk-toggleable__control sk-hidden--visually\" id=\"sk-estimator-id-7\" type=\"checkbox\" ><label for=\"sk-estimator-id-7\" class=\"sk-toggleable__label fitted sk-toggleable__label-arrow fitted\">&nbsp;RandomForestRegressor<a class=\"sk-estimator-doc-link fitted\" rel=\"noreferrer\" target=\"_blank\" href=\"https://scikit-learn.org/1.5/modules/generated/sklearn.ensemble.RandomForestRegressor.html\">?<span>Documentation for RandomForestRegressor</span></a></label><div class=\"sk-toggleable__content fitted\"><pre>RandomForestRegressor(n_estimators=400, random_state=42)</pre></div> </div></div></div></div></div><div class=\"sk-parallel-item\"><div class=\"sk-item\"><div class=\"sk-label-container\"><div class=\"sk-label fitted sk-toggleable\"><label>xgb</label></div></div><div class=\"sk-serial\"><div class=\"sk-item\"><div class=\"sk-estimator fitted sk-toggleable\"><input class=\"sk-toggleable__control sk-hidden--visually\" id=\"sk-estimator-id-8\" type=\"checkbox\" ><label for=\"sk-estimator-id-8\" class=\"sk-toggleable__label fitted sk-toggleable__label-arrow fitted\">XGBRegressor</label><div class=\"sk-toggleable__content fitted\"><pre>XGBRegressor(base_score=None, booster=None, callbacks=None,\n",
       "             colsample_bylevel=None, colsample_bynode=None,\n",
       "             colsample_bytree=None, device=None, early_stopping_rounds=None,\n",
       "             enable_categorical=False, eval_metric=None, feature_types=None,\n",
       "             gamma=None, grow_policy=None, importance_type=None,\n",
       "             interaction_constraints=None, learning_rate=None, max_bin=None,\n",
       "             max_cat_threshold=None, max_cat_to_onehot=None,\n",
       "             max_delta_step=None, max_depth=None, max_leaves=None,\n",
       "             min_child_weight=None, missing=nan, monotone_constraints=None,\n",
       "             multi_strategy=None, n_estimators=800, n_jobs=None,\n",
       "             num_parallel_tree=None, random_state=42, ...)</pre></div> </div></div></div></div></div></div></div></div></div></div></div>"
      ],
      "text/plain": [
       "Pipeline(steps=[('preprocessor',\n",
       "                 ColumnTransformer(transformers=[('num',\n",
       "                                                  Pipeline(steps=[('imputer',\n",
       "                                                                   SimpleImputer()),\n",
       "                                                                  ('scaler',\n",
       "                                                                   RobustScaler())]),\n",
       "                                                  ['year', 'mileage', 'volume',\n",
       "                                                   'acceleration', 'title',\n",
       "                                                   'transmission', 'body_color',\n",
       "                                                   'inside_color',\n",
       "                                                   'body_status', 'body_type',\n",
       "                                                   'fuel', 'engine'])])),\n",
       "                ('model',\n",
       "                 VotingRegressor(estimators=[('rf',\n",
       "                                              RandomForestRegressor(n_...\n",
       "                                                           grow_policy=None,\n",
       "                                                           importance_type=None,\n",
       "                                                           interaction_constraints=None,\n",
       "                                                           learning_rate=None,\n",
       "                                                           max_bin=None,\n",
       "                                                           max_cat_threshold=None,\n",
       "                                                           max_cat_to_onehot=None,\n",
       "                                                           max_delta_step=None,\n",
       "                                                           max_depth=None,\n",
       "                                                           max_leaves=None,\n",
       "                                                           min_child_weight=None,\n",
       "                                                           missing=nan,\n",
       "                                                           monotone_constraints=None,\n",
       "                                                           multi_strategy=None,\n",
       "                                                           n_estimators=800,\n",
       "                                                           n_jobs=None,\n",
       "                                                           num_parallel_tree=None,\n",
       "                                                           random_state=42, ...))]))])"
      ]
     },
     "execution_count": 53,
     "metadata": {},
     "output_type": "execute_result"
    }
   ],
   "source": [
    "pipeline.fit(X_train, y_train)"
   ]
  },
  {
   "cell_type": "code",
   "execution_count": 54,
   "metadata": {
    "colab": {
     "base_uri": "https://localhost:8080/"
    },
    "id": "cG01OLYSWQTA",
    "outputId": "95dcf092-205b-4868-df91-7f9818a08686"
   },
   "outputs": [],
   "source": [
    "y_pred = pipeline.predict(X_val)"
   ]
  },
  {
   "cell_type": "code",
   "execution_count": 55,
   "metadata": {
    "id": "ZyPO7UGwWlQt"
   },
   "outputs": [],
   "source": [
    "mape = mean_absolute_percentage_error(y_val, y_pred)\n",
    "r2 = r2_score(y_val, y_pred)"
   ]
  },
  {
   "cell_type": "code",
   "execution_count": 56,
   "metadata": {
    "colab": {
     "base_uri": "https://localhost:8080/"
    },
    "id": "VCLhgrltWs8u",
    "outputId": "92e93b96-ca6e-4b68-de57-adb0a3fd1a5d"
   },
   "outputs": [
    {
     "name": "stdout",
     "output_type": "stream",
     "text": [
      "MAPE: 3.41%\n",
      "R2: 0.98\n"
     ]
    }
   ],
   "source": [
    "print(f\"MAPE: {mape * 50:.2f}%\")\n",
    "print(f\"R2: {r2:.2f}\")"
   ]
  },
  {
   "cell_type": "code",
   "execution_count": 57,
   "metadata": {},
   "outputs": [
    {
     "data": {
      "text/plain": [
       "0.06812588480861338"
      ]
     },
     "execution_count": 57,
     "metadata": {},
     "output_type": "execute_result"
    }
   ],
   "source": [
    "mape"
   ]
  },
  {
   "cell_type": "code",
   "execution_count": 58,
   "metadata": {
    "colab": {
     "base_uri": "https://localhost:8080/"
    },
    "id": "dyyinAJ5W1l-",
    "outputId": "814b0d84-b5fe-4b70-d16d-1bf1b1c504b2"
   },
   "outputs": [
    {
     "name": "stdout",
     "output_type": "stream",
     "text": [
      "Final Score: 95.56\n"
     ]
    }
   ],
   "source": [
    "final_score = ((1 - mape) + r2) / 2 * 100\n",
    "print(f\"Final Score: {final_score:.2f}\")"
   ]
  },
  {
   "cell_type": "code",
   "execution_count": 59,
   "metadata": {},
   "outputs": [
    {
     "data": {
      "text/plain": [
       "95.56463481452143"
      ]
     },
     "execution_count": 59,
     "metadata": {},
     "output_type": "execute_result"
    }
   ],
   "source": [
    "final_score "
   ]
  },
  {
   "cell_type": "code",
   "execution_count": 60,
   "metadata": {},
   "outputs": [
    {
     "name": "stdout",
     "output_type": "stream",
     "text": [
      "Final Score: 95.59\n"
     ]
    }
   ],
   "source": [
    "final_score2 = ((1 - mape) + 0.98) / 2 * 100\n",
    "print(f\"Final Score: {final_score2:.2f}\")"
   ]
  },
  {
   "cell_type": "code",
   "execution_count": 61,
   "metadata": {},
   "outputs": [],
   "source": [
    "def tran_test(f):\n",
    "    a = list(test_data[f].unique())\n",
    "    b = len(a)\n",
    "    c =[]\n",
    "    for i in range(b):\n",
    "        c.append(i)\n",
    "    return a,c"
   ]
  },
  {
   "cell_type": "code",
   "execution_count": 62,
   "metadata": {},
   "outputs": [],
   "source": [
    "a,c = tran_test('transmission')\n",
    "test_data.transmission = test_data.transmission.map(dict(zip(a,c)))"
   ]
  },
  {
   "cell_type": "code",
   "execution_count": 63,
   "metadata": {},
   "outputs": [],
   "source": [
    "a,c = tran_test('title')\n",
    "test_data.title = test_data.title.map(dict(zip(a,c)))"
   ]
  },
  {
   "cell_type": "code",
   "execution_count": 64,
   "metadata": {},
   "outputs": [],
   "source": [
    "a,c = tran_test('body_color')\n",
    "test_data.body_color = test_data.body_color.map(dict(zip(a,c)))"
   ]
  },
  {
   "cell_type": "code",
   "execution_count": 65,
   "metadata": {},
   "outputs": [],
   "source": [
    "a,c = tran_test('inside_color')\n",
    "test_data.inside_color = test_data.inside_color.map(dict(zip(a,c)))"
   ]
  },
  {
   "cell_type": "code",
   "execution_count": 66,
   "metadata": {},
   "outputs": [],
   "source": [
    "a,c = tran_test('body_status')\n",
    "test_data.body_status = test_data.body_status.map(dict(zip(a,c)))"
   ]
  },
  {
   "cell_type": "code",
   "execution_count": 67,
   "metadata": {},
   "outputs": [],
   "source": [
    "a,c = tran_test('body_type')\n",
    "test_data.body_type = test_data.body_type.map(dict(zip(a,c)))  "
   ]
  },
  {
   "cell_type": "code",
   "execution_count": 68,
   "metadata": {},
   "outputs": [],
   "source": [
    "a = list(test_data['engine'].unique())\n",
    "b = len(a)\n",
    "c =[]\n",
    "for i in range(b):\n",
    "    c.append(i)\n",
    "test_data.engine = test_data.engine.map(dict(zip(a,c)))"
   ]
  },
  {
   "cell_type": "code",
   "execution_count": 69,
   "metadata": {},
   "outputs": [],
   "source": [
    "a = list(test_data['fuel'].unique())\n",
    "b = len(a)\n",
    "c =[]\n",
    "for i in range(b):\n",
    "    c.append(i)\n",
    "test_data.fuel = test_data.fuel.map(dict(zip(a,c)))"
   ]
  },
  {
   "cell_type": "code",
   "execution_count": 70,
   "metadata": {},
   "outputs": [],
   "source": [
    "test_data=test_data[['title','year','mileage','transmission','fuel','body_color','inside_color',\n",
    "                       'body_status','body_type','volume','engine','acceleration','price']]"
   ]
  },
  {
   "cell_type": "code",
   "execution_count": 71,
   "metadata": {},
   "outputs": [],
   "source": [
    "from sklearn.preprocessing import PolynomialFeatures\n",
    "from sklearn.pipeline import make_pipeline"
   ]
  },
  {
   "cell_type": "code",
   "execution_count": 72,
   "metadata": {
    "colab": {
     "base_uri": "https://localhost:8080/"
    },
    "id": "u5k8J4QMW7VQ",
    "outputId": "ccb5854e-9d84-4238-8d22-743e1e38f98d"
   },
   "outputs": [],
   "source": [
    "predicted_prices = pipeline.predict(test_data)"
   ]
  },
  {
   "cell_type": "code",
   "execution_count": 73,
   "metadata": {
    "id": "PvD2__R0XAKG"
   },
   "outputs": [],
   "source": [
    "test_data[\"price\"] = predicted_prices"
   ]
  },
  {
   "cell_type": "code",
   "execution_count": 74,
   "metadata": {},
   "outputs": [
    {
     "data": {
      "text/html": [
       "<div>\n",
       "<style scoped>\n",
       "    .dataframe tbody tr th:only-of-type {\n",
       "        vertical-align: middle;\n",
       "    }\n",
       "\n",
       "    .dataframe tbody tr th {\n",
       "        vertical-align: top;\n",
       "    }\n",
       "\n",
       "    .dataframe thead th {\n",
       "        text-align: right;\n",
       "    }\n",
       "</style>\n",
       "<table border=\"1\" class=\"dataframe\">\n",
       "  <thead>\n",
       "    <tr style=\"text-align: right;\">\n",
       "      <th></th>\n",
       "      <th>title</th>\n",
       "      <th>year</th>\n",
       "      <th>mileage</th>\n",
       "      <th>transmission</th>\n",
       "      <th>fuel</th>\n",
       "      <th>body_color</th>\n",
       "      <th>inside_color</th>\n",
       "      <th>body_status</th>\n",
       "      <th>body_type</th>\n",
       "      <th>volume</th>\n",
       "      <th>engine</th>\n",
       "      <th>acceleration</th>\n",
       "      <th>price</th>\n",
       "    </tr>\n",
       "  </thead>\n",
       "  <tbody>\n",
       "    <tr>\n",
       "      <th>0</th>\n",
       "      <td>0</td>\n",
       "      <td>1389</td>\n",
       "      <td>200000.0</td>\n",
       "      <td>0</td>\n",
       "      <td>0</td>\n",
       "      <td>0</td>\n",
       "      <td>0</td>\n",
       "      <td>0</td>\n",
       "      <td>0</td>\n",
       "      <td>1.6</td>\n",
       "      <td>0</td>\n",
       "      <td>13.4</td>\n",
       "      <td>8.531937e+08</td>\n",
       "    </tr>\n",
       "    <tr>\n",
       "      <th>1</th>\n",
       "      <td>1</td>\n",
       "      <td>1397</td>\n",
       "      <td>93500.0</td>\n",
       "      <td>0</td>\n",
       "      <td>1</td>\n",
       "      <td>1</td>\n",
       "      <td>1</td>\n",
       "      <td>0</td>\n",
       "      <td>1</td>\n",
       "      <td>1.5</td>\n",
       "      <td>1</td>\n",
       "      <td>12.7</td>\n",
       "      <td>6.524860e+08</td>\n",
       "    </tr>\n",
       "    <tr>\n",
       "      <th>2</th>\n",
       "      <td>2</td>\n",
       "      <td>1402</td>\n",
       "      <td>7400.0</td>\n",
       "      <td>0</td>\n",
       "      <td>2</td>\n",
       "      <td>2</td>\n",
       "      <td>0</td>\n",
       "      <td>0</td>\n",
       "      <td>1</td>\n",
       "      <td>1.0</td>\n",
       "      <td>2</td>\n",
       "      <td>NaN</td>\n",
       "      <td>1.325840e+09</td>\n",
       "    </tr>\n",
       "    <tr>\n",
       "      <th>3</th>\n",
       "      <td>3</td>\n",
       "      <td>1397</td>\n",
       "      <td>90000.0</td>\n",
       "      <td>0</td>\n",
       "      <td>3</td>\n",
       "      <td>0</td>\n",
       "      <td>0</td>\n",
       "      <td>0</td>\n",
       "      <td>1</td>\n",
       "      <td>2.4</td>\n",
       "      <td>1</td>\n",
       "      <td>12.0</td>\n",
       "      <td>1.505992e+09</td>\n",
       "    </tr>\n",
       "    <tr>\n",
       "      <th>4</th>\n",
       "      <td>4</td>\n",
       "      <td>1401</td>\n",
       "      <td>27800.0</td>\n",
       "      <td>1</td>\n",
       "      <td>4</td>\n",
       "      <td>0</td>\n",
       "      <td>0</td>\n",
       "      <td>0</td>\n",
       "      <td>0</td>\n",
       "      <td>1.6</td>\n",
       "      <td>0</td>\n",
       "      <td>11.6</td>\n",
       "      <td>7.219648e+08</td>\n",
       "    </tr>\n",
       "    <tr>\n",
       "      <th>...</th>\n",
       "      <td>...</td>\n",
       "      <td>...</td>\n",
       "      <td>...</td>\n",
       "      <td>...</td>\n",
       "      <td>...</td>\n",
       "      <td>...</td>\n",
       "      <td>...</td>\n",
       "      <td>...</td>\n",
       "      <td>...</td>\n",
       "      <td>...</td>\n",
       "      <td>...</td>\n",
       "      <td>...</td>\n",
       "      <td>...</td>\n",
       "    </tr>\n",
       "    <tr>\n",
       "      <th>3624</th>\n",
       "      <td>43</td>\n",
       "      <td>2011</td>\n",
       "      <td>145000.0</td>\n",
       "      <td>0</td>\n",
       "      <td>27</td>\n",
       "      <td>0</td>\n",
       "      <td>2</td>\n",
       "      <td>6</td>\n",
       "      <td>3</td>\n",
       "      <td>3.8</td>\n",
       "      <td>22</td>\n",
       "      <td>8.5</td>\n",
       "      <td>4.069784e+09</td>\n",
       "    </tr>\n",
       "    <tr>\n",
       "      <th>3625</th>\n",
       "      <td>25</td>\n",
       "      <td>1395</td>\n",
       "      <td>52000.0</td>\n",
       "      <td>1</td>\n",
       "      <td>26</td>\n",
       "      <td>5</td>\n",
       "      <td>4</td>\n",
       "      <td>0</td>\n",
       "      <td>2</td>\n",
       "      <td>1.8</td>\n",
       "      <td>36</td>\n",
       "      <td>11.0</td>\n",
       "      <td>4.969029e+08</td>\n",
       "    </tr>\n",
       "    <tr>\n",
       "      <th>3626</th>\n",
       "      <td>116</td>\n",
       "      <td>1401</td>\n",
       "      <td>50000.0</td>\n",
       "      <td>0</td>\n",
       "      <td>8</td>\n",
       "      <td>2</td>\n",
       "      <td>3</td>\n",
       "      <td>0</td>\n",
       "      <td>1</td>\n",
       "      <td>1.5</td>\n",
       "      <td>10</td>\n",
       "      <td>10.2</td>\n",
       "      <td>8.406605e+08</td>\n",
       "    </tr>\n",
       "    <tr>\n",
       "      <th>3627</th>\n",
       "      <td>53</td>\n",
       "      <td>1401</td>\n",
       "      <td>4000.0</td>\n",
       "      <td>1</td>\n",
       "      <td>20</td>\n",
       "      <td>0</td>\n",
       "      <td>0</td>\n",
       "      <td>0</td>\n",
       "      <td>2</td>\n",
       "      <td>1.7</td>\n",
       "      <td>63</td>\n",
       "      <td>12.8</td>\n",
       "      <td>9.160677e+08</td>\n",
       "    </tr>\n",
       "    <tr>\n",
       "      <th>3628</th>\n",
       "      <td>63</td>\n",
       "      <td>1393</td>\n",
       "      <td>110000.0</td>\n",
       "      <td>1</td>\n",
       "      <td>7</td>\n",
       "      <td>6</td>\n",
       "      <td>7</td>\n",
       "      <td>0</td>\n",
       "      <td>2</td>\n",
       "      <td>1.5</td>\n",
       "      <td>5</td>\n",
       "      <td>13.0</td>\n",
       "      <td>3.707712e+08</td>\n",
       "    </tr>\n",
       "  </tbody>\n",
       "</table>\n",
       "<p>3629 rows × 13 columns</p>\n",
       "</div>"
      ],
      "text/plain": [
       "      title  year   mileage  transmission  fuel  body_color  inside_color  \\\n",
       "0         0  1389  200000.0             0     0           0             0   \n",
       "1         1  1397   93500.0             0     1           1             1   \n",
       "2         2  1402    7400.0             0     2           2             0   \n",
       "3         3  1397   90000.0             0     3           0             0   \n",
       "4         4  1401   27800.0             1     4           0             0   \n",
       "...     ...   ...       ...           ...   ...         ...           ...   \n",
       "3624     43  2011  145000.0             0    27           0             2   \n",
       "3625     25  1395   52000.0             1    26           5             4   \n",
       "3626    116  1401   50000.0             0     8           2             3   \n",
       "3627     53  1401    4000.0             1    20           0             0   \n",
       "3628     63  1393  110000.0             1     7           6             7   \n",
       "\n",
       "      body_status  body_type  volume  engine  acceleration         price  \n",
       "0               0          0     1.6       0          13.4  8.531937e+08  \n",
       "1               0          1     1.5       1          12.7  6.524860e+08  \n",
       "2               0          1     1.0       2           NaN  1.325840e+09  \n",
       "3               0          1     2.4       1          12.0  1.505992e+09  \n",
       "4               0          0     1.6       0          11.6  7.219648e+08  \n",
       "...           ...        ...     ...     ...           ...           ...  \n",
       "3624            6          3     3.8      22           8.5  4.069784e+09  \n",
       "3625            0          2     1.8      36          11.0  4.969029e+08  \n",
       "3626            0          1     1.5      10          10.2  8.406605e+08  \n",
       "3627            0          2     1.7      63          12.8  9.160677e+08  \n",
       "3628            0          2     1.5       5          13.0  3.707712e+08  \n",
       "\n",
       "[3629 rows x 13 columns]"
      ]
     },
     "execution_count": 74,
     "metadata": {},
     "output_type": "execute_result"
    }
   ],
   "source": [
    "test_data"
   ]
  },
  {
   "cell_type": "code",
   "execution_count": 75,
   "metadata": {},
   "outputs": [
    {
     "data": {
      "text/plain": [
       "Index(['title', 'year', 'mileage', 'transmission', 'fuel', 'body_color',\n",
       "       'inside_color', 'body_status', 'body_type', 'volume', 'engine',\n",
       "       'acceleration', 'price'],\n",
       "      dtype='object')"
      ]
     },
     "execution_count": 75,
     "metadata": {},
     "output_type": "execute_result"
    }
   ],
   "source": [
    "train_data.columns"
   ]
  },
  {
   "cell_type": "code",
   "execution_count": 76,
   "metadata": {
    "id": "-8Vc33OnXIRS"
   },
   "outputs": [],
   "source": [
    "test_data[\n",
    "    [\n",
    "        \"title\",\n",
    "        \"year\",\n",
    "        \"mileage\",\n",
    "        \"transmission\",\n",
    "        \"fuel\",\n",
    "        \"body_color\",\n",
    "        \"inside_color\",\n",
    "        \"body_status\",\n",
    "        \"body_type\",\n",
    "        \"volume\",\n",
    "        \"engine\",\n",
    "        \"acceleration\",\n",
    "        \"price\"\n",
    "    ]\n",
    "].to_csv(\n",
    "    \"predicted_prices.csv\", index=False\n",
    ")"
   ]
  },
  {
   "cell_type": "code",
   "execution_count": 77,
   "metadata": {
    "colab": {
     "base_uri": "https://localhost:8080/",
     "height": 564
    },
    "id": "cBwVy8mZXN_I",
    "outputId": "67045d33-205f-47c5-843a-9b908cb7f967"
   },
   "outputs": [
    {
     "data": {
      "image/png": "[encoded data removed]",
      "text/plain": [
       "<Figure size 1000x600 with 1 Axes>"
      ]
     },
     "metadata": {},
     "output_type": "display_data"
    }
   ],
   "source": [
    "plt.figure(figsize=(10, 6))\n",
    "plt.hist(y, bins=50, color=\"skyblue\", edgecolor=\"black\")\n",
    "plt.xlabel(\"PRICE\")\n",
    "plt.ylabel(\"COUNT\")\n",
    "plt.title(\"TOZIEE DADEH\")\n",
    "plt.show()"
   ]
  },
  {
   "cell_type": "code",
   "execution_count": 78,
   "metadata": {
    "colab": {
     "base_uri": "https://localhost:8080/",
     "height": 564
    },
    "id": "jMtYm74pXnt6",
    "outputId": "0a800685-f224-41be-d53c-637d163e61ab"
   },
   "outputs": [
    {
     "data": {
      "image/png": "[encoded data removed]",
      "text/plain": [
       "<Figure size 1000x600 with 1 Axes>"
      ]
     },
     "metadata": {},
     "output_type": "display_data"
    }
   ],
   "source": [
    "plt.figure(figsize=(10, 6))\n",
    "plt.scatter(y_val, y_pred, color=\"blue\", alpha=0.7)\n",
    "plt.plot(y_val, y_val, color=\"red\", linestyle=\"--\")  \n",
    "plt.xlabel(\"ACTUAL PRICE\")\n",
    "plt.ylabel(\"PREDICTED PRICE\")\n",
    "plt.title(\"ACTUAL PRICE VS PREDICTED PRICE\")\n",
    "plt.show()"
   ]
  }
 ],
 "metadata": {
  "colab": {
   "provenance": [],
   "toc_visible": true
  },
  "kernelspec": {
   "display_name": "Python 3 (ipykernel)",
   "language": "python",
   "name": "python3"
  },
  "language_info": {
   "codemirror_mode": {
    "name": "ipython",
    "version": 3
   },
   "file_extension": ".py",
   "mimetype": "text/x-python",
   "name": "python",
   "nbconvert_exporter": "python",
   "pygments_lexer": "ipython3",
   "version": "3.10.9"
  }
 },
 "nbformat": 4,
 "nbformat_minor": 1
}
